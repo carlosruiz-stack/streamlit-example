{
 "cells": [
  {
   "cell_type": "code",
   "execution_count": 1,
   "id": "f63e1846",
   "metadata": {},
   "outputs": [],
   "source": [
    "def main():\n",
    "    st.title('Song Recommender')\n",
    "    \n",
    "    # Add input sliders for tempo, pitch, energy, danceability\n",
    "    tempo = st.sidebar.slider('Tempo', min_value=0.0, max_value=1.0, step=0.01)\n",
    "    pitch = st.sidebar.slider('Pitch', min_value=0.0, max_value=1.0, step=0.01)\n",
    "    energy = st.sidebar.slider('Energy', min_value=0.0, max_value=1.0, step=0.01)\n",
    "    danceability = st.sidebar.slider('Danceability', min_value=0.0, max_value=1.0, step=0.01)\n",
    "\n",
    "    # Add dropdown for music genre\n",
    "    music_genre = st.sidebar.selectbox('Music Genre', ['Rock', 'Pop', 'Hip Hop'])\n",
    "\n",
    "    # Filter the song data based on input variables\n",
    "    filtered_data = song_data[(song_data['music_genre'] == music_genre) &\n",
    "                              (song_data['tempo'] >= tempo) &\n",
    "                              (song_data['pitch'] >= pitch) &\n",
    "                              (song_data['energy'] >= energy) &\n",
    "                              (song_data['danceability'] >= danceability)]\n",
    "\n",
    "    if len(filtered_data) == 0:\n",
    "        st.warning('No songs found for the given criteria.')\n",
    "    else:\n",
    "        # Use the Nearest Neighbors model to get recommendations\n",
    "        query = filtered_data[features].values.reshape(1, -1)\n",
    "        _, indices = nn_model.kneighbors(query)\n",
    "\n",
    "        # Display the recommended songs\n",
    "        st.subheader('Recommended Songs')\n",
    "        for index in indices[0]:\n",
    "            st.write(song_data.loc[index, 'song_title'])"
   ]
  },
  {
   "cell_type": "code",
   "execution_count": null,
   "id": "d4ebc548",
   "metadata": {},
   "outputs": [],
   "source": []
  }
 ],
 "metadata": {
  "kernelspec": {
   "display_name": "Python 3 (ipykernel)",
   "language": "python",
   "name": "python3"
  },
  "language_info": {
   "codemirror_mode": {
    "name": "ipython",
    "version": 3
   },
   "file_extension": ".py",
   "mimetype": "text/x-python",
   "name": "python",
   "nbconvert_exporter": "python",
   "pygments_lexer": "ipython3",
   "version": "3.9.13"
  }
 },
 "nbformat": 4,
 "nbformat_minor": 5
}

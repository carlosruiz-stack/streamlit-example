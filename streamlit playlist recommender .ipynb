{
 "cells": [
  {
   "cell_type": "code",
   "execution_count": 4,
   "id": "98e79680",
   "metadata": {},
   "outputs": [],
   "source": [
    "import streamlit as st\n",
    "import pandas as pd\n",
    "\n",
    "def main():\n",
    "    # create Streamlit app\n",
    "    st.title(\"Music Preferences\")\n",
    "\n",
    "    # create input fields \n",
    "    genre = st.text_input(\"Genre\")\n",
    "    year = st.number_input(\"Year\", min_value=1900, max_value=2023, step=1)\n",
    "    acousticness = st.slider(\"Acousticness\", 0.0, 1.0)\n",
    "    danceability = st.slider(\"Danceability\", 0.0, 1.0)\n",
    "    energy = st.slider(\"Energy\", 0.0, 1.0)\n",
    "    instrumentalness = st.slider(\"Instrumentalness\", 0.0, 1.0)\n",
    "    liveness = st.slider(\"Liveness\", 0.0, 1.0)\n",
    "    loudness = st.slider(\"Loudness\", -60.0, 0.0)\n",
    "\n",
    "    if st.button(\"Generate Recommendations\"):\n",
    "        \n",
    "        # call the function to generate recommendations based on the input values\n",
    "        recommendations = generate_recommendations(genre, year, acousticness, danceability, energy,\n",
    "                                                   instrumentalness, liveness, loudness)\n",
    "\n",
    "        # display results \n",
    "        if recommendations:\n",
    "            st.header(\"Recommended Songs\")\n",
    "            st.write(recommendations)\n",
    "        else:\n",
    "            st.info(\"No recommendations found.\")"
   ]
  },
  {
   "cell_type": "code",
   "execution_count": 5,
   "id": "10c71512",
   "metadata": {},
   "outputs": [],
   "source": [
    "if __name__ == '__main__':\n",
    "    main()"
   ]
  },
  {
   "cell_type": "code",
   "execution_count": null,
   "id": "f6591b13",
   "metadata": {},
   "outputs": [],
   "source": []
  }
 ],
 "metadata": {
  "kernelspec": {
   "display_name": "Python 3 (ipykernel)",
   "language": "python",
   "name": "python3"
  },
  "language_info": {
   "codemirror_mode": {
    "name": "ipython",
    "version": 3
   },
   "file_extension": ".py",
   "mimetype": "text/x-python",
   "name": "python",
   "nbconvert_exporter": "python",
   "pygments_lexer": "ipython3",
   "version": "3.9.13"
  }
 },
 "nbformat": 4,
 "nbformat_minor": 5
}
